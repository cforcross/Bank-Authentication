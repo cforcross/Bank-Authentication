{
  "nbformat": 4,
  "nbformat_minor": 0,
  "metadata": {
    "colab": {
      "name": "Edureka bank Authentication.ipynb",
      "provenance": []
    },
    "kernelspec": {
      "name": "python3",
      "display_name": "Python 3"
    },
    "accelerator": "GPU"
  },
  "cells": [
    {
      "cell_type": "code",
      "metadata": {
        "id": "dMaVAXx8UoHq",
        "colab_type": "code",
        "outputId": "10dcacca-cf7c-4d6d-cbeb-f17b6f662ded",
        "colab": {
          "base_uri": "https://localhost:8080/",
          "height": 390
        }
      },
      "source": [
        "!pip install tensorflow"
      ],
      "execution_count": 0,
      "outputs": [
        {
          "output_type": "stream",
          "text": [
            "Requirement already satisfied: tensorflow in /usr/local/lib/python3.6/dist-packages (1.15.0)\n",
            "Requirement already satisfied: google-pasta>=0.1.6 in /usr/local/lib/python3.6/dist-packages (from tensorflow) (0.1.8)\n",
            "Requirement already satisfied: grpcio>=1.8.6 in /usr/local/lib/python3.6/dist-packages (from tensorflow) (1.15.0)\n",
            "Requirement already satisfied: numpy<2.0,>=1.16.0 in /usr/local/lib/python3.6/dist-packages (from tensorflow) (1.17.5)\n",
            "Requirement already satisfied: opt-einsum>=2.3.2 in /usr/local/lib/python3.6/dist-packages (from tensorflow) (3.1.0)\n",
            "Requirement already satisfied: six>=1.10.0 in /usr/local/lib/python3.6/dist-packages (from tensorflow) (1.12.0)\n",
            "Requirement already satisfied: keras-preprocessing>=1.0.5 in /usr/local/lib/python3.6/dist-packages (from tensorflow) (1.1.0)\n",
            "Requirement already satisfied: gast==0.2.2 in /usr/local/lib/python3.6/dist-packages (from tensorflow) (0.2.2)\n",
            "Requirement already satisfied: keras-applications>=1.0.8 in /usr/local/lib/python3.6/dist-packages (from tensorflow) (1.0.8)\n",
            "Requirement already satisfied: termcolor>=1.1.0 in /usr/local/lib/python3.6/dist-packages (from tensorflow) (1.1.0)\n",
            "Requirement already satisfied: tensorboard<1.16.0,>=1.15.0 in /usr/local/lib/python3.6/dist-packages (from tensorflow) (1.15.0)\n",
            "Requirement already satisfied: tensorflow-estimator==1.15.1 in /usr/local/lib/python3.6/dist-packages (from tensorflow) (1.15.1)\n",
            "Requirement already satisfied: astor>=0.6.0 in /usr/local/lib/python3.6/dist-packages (from tensorflow) (0.8.1)\n",
            "Requirement already satisfied: wrapt>=1.11.1 in /usr/local/lib/python3.6/dist-packages (from tensorflow) (1.11.2)\n",
            "Requirement already satisfied: protobuf>=3.6.1 in /usr/local/lib/python3.6/dist-packages (from tensorflow) (3.10.0)\n",
            "Requirement already satisfied: wheel>=0.26 in /usr/local/lib/python3.6/dist-packages (from tensorflow) (0.34.2)\n",
            "Requirement already satisfied: absl-py>=0.7.0 in /usr/local/lib/python3.6/dist-packages (from tensorflow) (0.9.0)\n",
            "Requirement already satisfied: h5py in /usr/local/lib/python3.6/dist-packages (from keras-applications>=1.0.8->tensorflow) (2.8.0)\n",
            "Requirement already satisfied: werkzeug>=0.11.15 in /usr/local/lib/python3.6/dist-packages (from tensorboard<1.16.0,>=1.15.0->tensorflow) (0.16.1)\n",
            "Requirement already satisfied: setuptools>=41.0.0 in /usr/local/lib/python3.6/dist-packages (from tensorboard<1.16.0,>=1.15.0->tensorflow) (45.1.0)\n",
            "Requirement already satisfied: markdown>=2.6.8 in /usr/local/lib/python3.6/dist-packages (from tensorboard<1.16.0,>=1.15.0->tensorflow) (3.1.1)\n"
          ],
          "name": "stdout"
        }
      ]
    },
    {
      "cell_type": "code",
      "metadata": {
        "id": "WlkPVon4U9Ym",
        "colab_type": "code",
        "outputId": "c5ddeadb-5cbc-445b-ee45-2c89dbaf57ce",
        "colab": {
          "base_uri": "https://localhost:8080/",
          "height": 62
        }
      },
      "source": [
        "import matplotlib.pyplot as plt\n",
        "import pandas as pd\n",
        "import numpy as np\n",
        "import io\n",
        "import seaborn as sns\n",
        "from sklearn.preprocessing import LabelEncoder\n",
        "from sklearn.utils import shuffle\n",
        "from sklearn.model_selection import train_test_split\n",
        "from sklearn.datasets import load_iris\n",
        "from sklearn.model_selection import train_test_split\n",
        "from sklearn.preprocessing import StandardScaler\n",
        "from sklearn.pipeline import Pipeline\n",
        "from sklearn.externals import joblib\n",
        "from sklearn.linear_model import LinearRegression,LogisticRegression\n",
        "from sklearn.tree import DecisionTreeClassifier\n",
        "from sklearn.svm import SVC\n",
        "from sklearn.ensemble import RandomForestClassifier\n",
        "from sklearn.decomposition import PCA\n",
        "from sklearn.metrics import mean_squared_error\n",
        "from sklearn.model_selection import GridSearchCV\n",
        "import tensorflow as tf\n",
        "\n",
        "\n"
      ],
      "execution_count": 0,
      "outputs": [
        {
          "output_type": "display_data",
          "data": {
            "text/html": [
              "<p style=\"color: red;\">\n",
              "The default version of TensorFlow in Colab will soon switch to TensorFlow 2.x.<br>\n",
              "We recommend you <a href=\"https://www.tensorflow.org/guide/migrate\" target=\"_blank\">upgrade</a> now \n",
              "or ensure your notebook will continue to use TensorFlow 1.x via the <code>%tensorflow_version 1.x</code> magic:\n",
              "<a href=\"https://colab.research.google.com/notebooks/tensorflow_version.ipynb\" target=\"_blank\">more info</a>.</p>\n"
            ],
            "text/plain": [
              "<IPython.core.display.HTML object>"
            ]
          },
          "metadata": {
            "tags": []
          }
        }
      ]
    },
    {
      "cell_type": "code",
      "metadata": {
        "id": "t_mvGKP_VITO",
        "colab_type": "code",
        "outputId": "d3975b8a-bc5d-4068-eeca-06dada7a8f54",
        "colab": {
          "resources": {
            "http://localhost:8080/nbextensions/google.colab/files.js": {
              "data": "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",
              "ok": true,
              "headers": [
                [
                  "content-type",
                  "application/javascript"
                ]
              ],
              "status": 200,
              "status_text": ""
            }
          },
          "base_uri": "https://localhost:8080/",
          "height": 74
        }
      },
      "source": [
        "from google.colab import files\n",
        "uploaded=files.upload()"
      ],
      "execution_count": 0,
      "outputs": [
        {
          "output_type": "display_data",
          "data": {
            "text/html": [
              "\n",
              "     <input type=\"file\" id=\"files-6b6eb7d4-944e-4219-abc2-ffa06a2fe0f8\" name=\"files[]\" multiple disabled />\n",
              "     <output id=\"result-6b6eb7d4-944e-4219-abc2-ffa06a2fe0f8\">\n",
              "      Upload widget is only available when the cell has been executed in the\n",
              "      current browser session. Please rerun this cell to enable.\n",
              "      </output>\n",
              "      <script src=\"/nbextensions/google.colab/files.js\"></script> "
            ],
            "text/plain": [
              "<IPython.core.display.HTML object>"
            ]
          },
          "metadata": {
            "tags": []
          }
        },
        {
          "output_type": "stream",
          "text": [
            "Saving BankNote_Authentication.csv to BankNote_Authentication.csv\n"
          ],
          "name": "stdout"
        }
      ]
    },
    {
      "cell_type": "code",
      "metadata": {
        "id": "7o6dUVuQVMCR",
        "colab_type": "code",
        "colab": {}
      },
      "source": [
        "def read_datasets():\n",
        "  for fn in uploaded.keys():\n",
        "    print('User uploaded file \"{name}\" with length {length} bytes'.format(\n",
        "      name=fn, length=len(uploaded[fn])))\n",
        "  Banknote=pd.read_csv(io.StringIO(uploaded['BankNote_Authentication.csv'].decode('utf-8')))\n",
        "    \n",
        "  X=Banknote[Banknote.columns[0:4]].values\n",
        "  y=Banknote[Banknote.columns[4]]\n",
        "  encoder=LabelEncoder()\n",
        "  encoder.fit(y)\n",
        "  y=encoder.transform(y)\n",
        "  Y=one_hot_encode(y)\n",
        "  print(X.shape)\n",
        "  return(X,Y)\n",
        "  \n"
      ],
      "execution_count": 0,
      "outputs": []
    },
    {
      "cell_type": "code",
      "metadata": {
        "id": "k2tmc3kvVW-r",
        "colab_type": "code",
        "colab": {}
      },
      "source": [
        "#Define the encoder function\n",
        "def one_hot_encode(labels):\n",
        "  n_labels=len(labels)\n",
        "  n_unique_labels=len(np.unique(labels))\n",
        "  one_hot_encode=np.zeros((n_labels,n_unique_labels))\n",
        "  one_hot_encode[np.arange(n_labels),labels]=1\n",
        "  return one_hot_encode\n",
        "  "
      ],
      "execution_count": 0,
      "outputs": []
    },
    {
      "cell_type": "code",
      "metadata": {
        "id": "SL-CgakiVb2a",
        "colab_type": "code",
        "outputId": "959df513-8392-417c-837c-e3be2f3c6286",
        "colab": {
          "base_uri": "https://localhost:8080/",
          "height": 50
        }
      },
      "source": [
        "#Read the dataset\n",
        "X, Y = read_datasets()\n",
        "#shuffle the dataset\n",
        "X,Y = shuffle(X,Y,random_state=1)\n",
        "#split the dataset into train and test sets\n",
        "train_x,test_x,train_y,test_y=train_test_split(X,Y,test_size=0.3,random_state=101)"
      ],
      "execution_count": 0,
      "outputs": [
        {
          "output_type": "stream",
          "text": [
            "User uploaded file \"BankNote_Authentication.csv\" with length 46442 bytes\n",
            "(1372, 4)\n"
          ],
          "name": "stdout"
        }
      ]
    },
    {
      "cell_type": "code",
      "metadata": {
        "id": "MRZ4Vd4-VmlG",
        "colab_type": "code",
        "outputId": "90d1a83b-d469-489a-f570-3094be3a07fa",
        "colab": {
          "base_uri": "https://localhost:8080/",
          "height": 84
        }
      },
      "source": [
        "#Inspecting the training and testing sets of the data\n",
        "print(train_x.shape)\n",
        "print(train_y.shape)\n",
        "print(test_x.shape)\n",
        "print(test_y.shape)"
      ],
      "execution_count": 0,
      "outputs": [
        {
          "output_type": "stream",
          "text": [
            "(960, 4)\n",
            "(960, 2)\n",
            "(412, 4)\n",
            "(412, 2)\n"
          ],
          "name": "stdout"
        }
      ]
    },
    {
      "cell_type": "code",
      "metadata": {
        "id": "y2Dq-mKSVwQk",
        "colab_type": "code",
        "outputId": "b7ceead4-f516-4b80-fc2c-0ccac3bf7409",
        "colab": {
          "base_uri": "https://localhost:8080/",
          "height": 34
        }
      },
      "source": [
        "#Defind the import parameters to work with tensors\n",
        "train_epochs = 100 #the number of iterations that most be done to minimize the loss\n",
        "learning_rate =0.3\n",
        "cost_history=np.empty(shape=[1],dtype=float) #loss_function\n",
        "n_dim = X.shape[1] #shape of feautures store in X and includes the number of columns\n",
        "print(\"n_dim\", n_dim)\n",
        "n_class = 2 #here we got just two labels (mine and rock)\n",
        "model_path= \" \"#path you wish to save your model"
      ],
      "execution_count": 0,
      "outputs": [
        {
          "output_type": "stream",
          "text": [
            "n_dim 4\n"
          ],
          "name": "stdout"
        }
      ]
    },
    {
      "cell_type": "code",
      "metadata": {
        "id": "yF9xtWoaWIS4",
        "colab_type": "code",
        "colab": {}
      },
      "source": [
        "#Define the number of hidden layers and number of neurons for each layer\n",
        "n_hidden_1 = 10\n",
        "n_hidden_2 = 10\n",
        "n_hidden_3 = 10\n",
        "n_hidden_4 = 10"
      ],
      "execution_count": 0,
      "outputs": []
    },
    {
      "cell_type": "code",
      "metadata": {
        "id": "nRtOyojGWT--",
        "colab_type": "code",
        "colab": {}
      },
      "source": [
        "x= tf.placeholder(tf.float32,[None,n_dim])\n",
        "W= tf.Variable(tf.zeros([n_dim,n_class]))\n",
        "b= tf.Variable(tf.zeros([n_class]))\n",
        "y_=tf.placeholder(tf.float32,[None,n_class]) #provides us with the actual outpu of the model"
      ],
      "execution_count": 0,
      "outputs": []
    },
    {
      "cell_type": "code",
      "metadata": {
        "id": "KlW9NCwNWagc",
        "colab_type": "code",
        "colab": {}
      },
      "source": [
        "#This function is our model\n",
        "def multilayer_perceptron(x,weights,biases):\n",
        "  layer_1=tf.add(tf.matmul(x,weights['h1']),biases['b1'])\n",
        "  layer_1=tf.nn.sigmoid(layer_1)\n",
        "\n",
        "  layer_2=tf.add(tf.matmul(layer_1,weights['h2']),biases['b2'])\n",
        "  layer_2=tf.nn.sigmoid(layer_2)\n",
        "\n",
        "  layer_3=tf.add(tf.matmul(layer_2,weights['h3']),biases['b3'])\n",
        "  layer_3=tf.nn.sigmoid(layer_3)\n",
        "\n",
        "  layer_4=tf.add(tf.matmul(layer_3,weights['h4']),biases['b4'])\n",
        "  layer_4=tf.nn.relu(layer_4)\n",
        "\n",
        "\n",
        "  out_layer=tf.matmul(layer_4,weights['out'])+ biases['out']\n",
        "  return out_layer"
      ],
      "execution_count": 0,
      "outputs": []
    },
    {
      "cell_type": "code",
      "metadata": {
        "id": "ka2pwCHDW4CO",
        "colab_type": "code",
        "colab": {}
      },
      "source": [
        "weights={\n",
        "    'h1':tf.Variable(tf.truncated_normal([n_dim,n_hidden_1])),\n",
        "    'h2':tf.Variable(tf.truncated_normal([n_hidden_1,n_hidden_2])),\n",
        "    'h3':tf.Variable(tf.truncated_normal([n_hidden_2,n_hidden_3])),\n",
        "    'h4':tf.Variable(tf.truncated_normal([n_hidden_3,n_hidden_4])),\n",
        "    'out':tf.Variable(tf.truncated_normal([n_hidden_4, n_class]))\n",
        "}"
      ],
      "execution_count": 0,
      "outputs": []
    },
    {
      "cell_type": "code",
      "metadata": {
        "id": "n-jEdwRkW9OU",
        "colab_type": "code",
        "colab": {}
      },
      "source": [
        "biases ={\n",
        "    'b1':tf.Variable(tf.truncated_normal([n_hidden_1])),\n",
        "    'b2':tf.Variable(tf.truncated_normal([n_hidden_2])),\n",
        "    'b3':tf.Variable(tf.truncated_normal([n_hidden_3])),\n",
        "    'b4':tf.Variable(tf.truncated_normal([n_hidden_4])),\n",
        "    'out':tf.Variable(tf.truncated_normal([n_class]))\n",
        "}"
      ],
      "execution_count": 0,
      "outputs": []
    },
    {
      "cell_type": "code",
      "metadata": {
        "id": "tMTkeqqTW_j6",
        "colab_type": "code",
        "colab": {}
      },
      "source": [
        "\n",
        "init = tf.global_variables_initializer()\n",
        "saver = tf.train.Saver()\n",
        "y=multilayer_perceptron(x,weights,biases)"
      ],
      "execution_count": 0,
      "outputs": []
    },
    {
      "cell_type": "code",
      "metadata": {
        "id": "gCSX2wIrXOPr",
        "colab_type": "code",
        "colab": {}
      },
      "source": [
        "#Define the cost functin and optimizer\n",
        "#Cost functin\n",
        "cost_function = tf.reduce_mean(tf.nn.softmax_cross_entropy_with_logits_v2(logits=y,labels=y_))\n",
        "#optimizer\n",
        "training_step = tf.train.GradientDescentOptimizer(learning_rate).minimize(cost_function)"
      ],
      "execution_count": 0,
      "outputs": []
    },
    {
      "cell_type": "code",
      "metadata": {
        "id": "hHKpul_bXRhC",
        "colab_type": "code",
        "colab": {}
      },
      "source": [
        "sess = tf.Session()\n",
        "sess.run(init)"
      ],
      "execution_count": 0,
      "outputs": []
    },
    {
      "cell_type": "code",
      "metadata": {
        "id": "LbACegOlXUOv",
        "colab_type": "code",
        "colab": {}
      },
      "source": [
        "#calculate the cost and accuracy for each epoch\n",
        "mse_history=[]\n",
        "accuracy_history =[]"
      ],
      "execution_count": 0,
      "outputs": []
    },
    {
      "cell_type": "code",
      "metadata": {
        "id": "R13aBRinXXqf",
        "colab_type": "code",
        "outputId": "4c80e842-667c-4122-99fa-824ce90e4531",
        "colab": {
          "base_uri": "https://localhost:8080/",
          "height": 1000
        }
      },
      "source": [
        "for epoch in range(train_epochs):\n",
        "  sess.run(training_step,feed_dict={x:train_x,y_:train_y})\n",
        "  cost=sess.run(cost_function,feed_dict={x:train_x,y_:train_y})\n",
        "  cost_history=np.append(cost_history,cost)\n",
        "  correct_prediction=tf.equal(tf.argmax(y,1),tf.argmax(y_,1))\n",
        "  accuracy=tf.reduce_mean(tf.cast(correct_prediction,tf.float32))\n",
        "  \n",
        "  pred_y=sess.run(y,feed_dict={x:test_x})\n",
        "  mse_=tf.reduce_mean(tf.square(pred_y-test_y))\n",
        "  mse_history.append(mse_)\n",
        "  accuracy=(sess.run(accuracy,feed_dict={x:train_x,y_:train_y}))\n",
        "  accuracy_history.append(accuracy)\n",
        "\n",
        "  print(\"epoch: \",epoch,\"-\",\"costs: \",cost,\"-MSE: \",mse_,\"-Train Accuracy: \",accuracy)"
      ],
      "execution_count": 0,
      "outputs": [
        {
          "output_type": "stream",
          "text": [
            "epoch:  0 - costs:  2.8025415 -MSE:  Tensor(\"Mean_2:0\", shape=(), dtype=float64) -Train Accuracy:  0.565625\n",
            "epoch:  1 - costs:  4.667934 -MSE:  Tensor(\"Mean_4:0\", shape=(), dtype=float64) -Train Accuracy:  0.434375\n",
            "epoch:  2 - costs:  2.7321775 -MSE:  Tensor(\"Mean_6:0\", shape=(), dtype=float64) -Train Accuracy:  0.565625\n",
            "epoch:  3 - costs:  0.84382826 -MSE:  Tensor(\"Mean_8:0\", shape=(), dtype=float64) -Train Accuracy:  0.434375\n",
            "epoch:  4 - costs:  1.1191908 -MSE:  Tensor(\"Mean_10:0\", shape=(), dtype=float64) -Train Accuracy:  0.565625\n",
            "epoch:  5 - costs:  0.96620107 -MSE:  Tensor(\"Mean_12:0\", shape=(), dtype=float64) -Train Accuracy:  0.434375\n",
            "epoch:  6 - costs:  1.0010647 -MSE:  Tensor(\"Mean_14:0\", shape=(), dtype=float64) -Train Accuracy:  0.565625\n",
            "epoch:  7 - costs:  0.7084686 -MSE:  Tensor(\"Mean_16:0\", shape=(), dtype=float64) -Train Accuracy:  0.434375\n",
            "epoch:  8 - costs:  0.6790784 -MSE:  Tensor(\"Mean_18:0\", shape=(), dtype=float64) -Train Accuracy:  0.565625\n",
            "epoch:  9 - costs:  0.6354915 -MSE:  Tensor(\"Mean_20:0\", shape=(), dtype=float64) -Train Accuracy:  0.65\n",
            "epoch:  10 - costs:  0.6162838 -MSE:  Tensor(\"Mean_22:0\", shape=(), dtype=float64) -Train Accuracy:  0.5677083\n",
            "epoch:  11 - costs:  0.5958796 -MSE:  Tensor(\"Mean_24:0\", shape=(), dtype=float64) -Train Accuracy:  0.8333333\n",
            "epoch:  12 - costs:  0.57900244 -MSE:  Tensor(\"Mean_26:0\", shape=(), dtype=float64) -Train Accuracy:  0.6354167\n",
            "epoch:  13 - costs:  0.5606981 -MSE:  Tensor(\"Mean_28:0\", shape=(), dtype=float64) -Train Accuracy:  0.83958334\n",
            "epoch:  14 - costs:  0.5423102 -MSE:  Tensor(\"Mean_30:0\", shape=(), dtype=float64) -Train Accuracy:  0.809375\n",
            "epoch:  15 - costs:  0.52239007 -MSE:  Tensor(\"Mean_32:0\", shape=(), dtype=float64) -Train Accuracy:  0.846875\n",
            "epoch:  16 - costs:  0.5021734 -MSE:  Tensor(\"Mean_34:0\", shape=(), dtype=float64) -Train Accuracy:  0.8354167\n",
            "epoch:  17 - costs:  0.48113713 -MSE:  Tensor(\"Mean_36:0\", shape=(), dtype=float64) -Train Accuracy:  0.8541667\n",
            "epoch:  18 - costs:  0.46103293 -MSE:  Tensor(\"Mean_38:0\", shape=(), dtype=float64) -Train Accuracy:  0.82916665\n",
            "epoch:  19 - costs:  0.44138527 -MSE:  Tensor(\"Mean_40:0\", shape=(), dtype=float64) -Train Accuracy:  0.86041665\n",
            "epoch:  20 - costs:  0.42498258 -MSE:  Tensor(\"Mean_42:0\", shape=(), dtype=float64) -Train Accuracy:  0.840625\n",
            "epoch:  21 - costs:  0.41108552 -MSE:  Tensor(\"Mean_44:0\", shape=(), dtype=float64) -Train Accuracy:  0.875\n",
            "epoch:  22 - costs:  0.41003826 -MSE:  Tensor(\"Mean_46:0\", shape=(), dtype=float64) -Train Accuracy:  0.846875\n",
            "epoch:  23 - costs:  0.43770906 -MSE:  Tensor(\"Mean_48:0\", shape=(), dtype=float64) -Train Accuracy:  0.85520834\n",
            "epoch:  24 - costs:  0.5014018 -MSE:  Tensor(\"Mean_50:0\", shape=(), dtype=float64) -Train Accuracy:  0.7583333\n",
            "epoch:  25 - costs:  0.50513273 -MSE:  Tensor(\"Mean_52:0\", shape=(), dtype=float64) -Train Accuracy:  0.778125\n",
            "epoch:  26 - costs:  0.6063246 -MSE:  Tensor(\"Mean_54:0\", shape=(), dtype=float64) -Train Accuracy:  0.615625\n",
            "epoch:  27 - costs:  0.42047822 -MSE:  Tensor(\"Mean_56:0\", shape=(), dtype=float64) -Train Accuracy:  0.85833335\n",
            "epoch:  28 - costs:  0.45569095 -MSE:  Tensor(\"Mean_58:0\", shape=(), dtype=float64) -Train Accuracy:  0.81041664\n",
            "epoch:  29 - costs:  0.33901185 -MSE:  Tensor(\"Mean_60:0\", shape=(), dtype=float64) -Train Accuracy:  0.9010417\n",
            "epoch:  30 - costs:  0.3524333 -MSE:  Tensor(\"Mean_62:0\", shape=(), dtype=float64) -Train Accuracy:  0.86354166\n",
            "epoch:  31 - costs:  0.29412034 -MSE:  Tensor(\"Mean_64:0\", shape=(), dtype=float64) -Train Accuracy:  0.91041666\n",
            "epoch:  32 - costs:  0.3012935 -MSE:  Tensor(\"Mean_66:0\", shape=(), dtype=float64) -Train Accuracy:  0.88125\n",
            "epoch:  33 - costs:  0.26678303 -MSE:  Tensor(\"Mean_68:0\", shape=(), dtype=float64) -Train Accuracy:  0.91979164\n",
            "epoch:  34 - costs:  0.26983002 -MSE:  Tensor(\"Mean_70:0\", shape=(), dtype=float64) -Train Accuracy:  0.89375\n",
            "epoch:  35 - costs:  0.24418448 -MSE:  Tensor(\"Mean_72:0\", shape=(), dtype=float64) -Train Accuracy:  0.92604166\n",
            "epoch:  36 - costs:  0.24374308 -MSE:  Tensor(\"Mean_74:0\", shape=(), dtype=float64) -Train Accuracy:  0.90208334\n",
            "epoch:  37 - costs:  0.22128533 -MSE:  Tensor(\"Mean_76:0\", shape=(), dtype=float64) -Train Accuracy:  0.934375\n",
            "epoch:  38 - costs:  0.21769737 -MSE:  Tensor(\"Mean_78:0\", shape=(), dtype=float64) -Train Accuracy:  0.9114583\n",
            "epoch:  39 - costs:  0.19867182 -MSE:  Tensor(\"Mean_80:0\", shape=(), dtype=float64) -Train Accuracy:  0.93854165\n",
            "epoch:  40 - costs:  0.19270775 -MSE:  Tensor(\"Mean_82:0\", shape=(), dtype=float64) -Train Accuracy:  0.9145833\n",
            "epoch:  41 - costs:  0.17743517 -MSE:  Tensor(\"Mean_84:0\", shape=(), dtype=float64) -Train Accuracy:  0.95\n",
            "epoch:  42 - costs:  0.17009114 -MSE:  Tensor(\"Mean_86:0\", shape=(), dtype=float64) -Train Accuracy:  0.9291667\n",
            "epoch:  43 - costs:  0.15828042 -MSE:  Tensor(\"Mean_88:0\", shape=(), dtype=float64) -Train Accuracy:  0.95729166\n",
            "epoch:  44 - costs:  0.15035947 -MSE:  Tensor(\"Mean_90:0\", shape=(), dtype=float64) -Train Accuracy:  0.93854165\n",
            "epoch:  45 - costs:  0.14101751 -MSE:  Tensor(\"Mean_92:0\", shape=(), dtype=float64) -Train Accuracy:  0.9614583\n",
            "epoch:  46 - costs:  0.1333778 -MSE:  Tensor(\"Mean_94:0\", shape=(), dtype=float64) -Train Accuracy:  0.9479167\n",
            "epoch:  47 - costs:  0.12564291 -MSE:  Tensor(\"Mean_96:0\", shape=(), dtype=float64) -Train Accuracy:  0.96458334\n",
            "epoch:  48 - costs:  0.1190598 -MSE:  Tensor(\"Mean_98:0\", shape=(), dtype=float64) -Train Accuracy:  0.95416665\n",
            "epoch:  49 - costs:  0.11307488 -MSE:  Tensor(\"Mean_100:0\", shape=(), dtype=float64) -Train Accuracy:  0.9625\n",
            "epoch:  50 - costs:  0.10804238 -MSE:  Tensor(\"Mean_102:0\", shape=(), dtype=float64) -Train Accuracy:  0.9614583\n",
            "epoch:  51 - costs:  0.10349269 -MSE:  Tensor(\"Mean_104:0\", shape=(), dtype=float64) -Train Accuracy:  0.96770835\n",
            "epoch:  52 - costs:  0.099348195 -MSE:  Tensor(\"Mean_106:0\", shape=(), dtype=float64) -Train Accuracy:  0.97083336\n",
            "epoch:  53 - costs:  0.09550902 -MSE:  Tensor(\"Mean_108:0\", shape=(), dtype=float64) -Train Accuracy:  0.97083336\n",
            "epoch:  54 - costs:  0.09192839 -MSE:  Tensor(\"Mean_110:0\", shape=(), dtype=float64) -Train Accuracy:  0.97083336\n",
            "epoch:  55 - costs:  0.08857546 -MSE:  Tensor(\"Mean_112:0\", shape=(), dtype=float64) -Train Accuracy:  0.97291666\n",
            "epoch:  56 - costs:  0.08542586 -MSE:  Tensor(\"Mean_114:0\", shape=(), dtype=float64) -Train Accuracy:  0.97291666\n",
            "epoch:  57 - costs:  0.08246573 -MSE:  Tensor(\"Mean_116:0\", shape=(), dtype=float64) -Train Accuracy:  0.9760417\n",
            "epoch:  58 - costs:  0.07967879 -MSE:  Tensor(\"Mean_118:0\", shape=(), dtype=float64) -Train Accuracy:  0.9770833\n",
            "epoch:  59 - costs:  0.07705078 -MSE:  Tensor(\"Mean_120:0\", shape=(), dtype=float64) -Train Accuracy:  0.9770833\n",
            "epoch:  60 - costs:  0.07456982 -MSE:  Tensor(\"Mean_122:0\", shape=(), dtype=float64) -Train Accuracy:  0.9770833\n",
            "epoch:  61 - costs:  0.072223544 -MSE:  Tensor(\"Mean_124:0\", shape=(), dtype=float64) -Train Accuracy:  0.978125\n",
            "epoch:  62 - costs:  0.070001915 -MSE:  Tensor(\"Mean_126:0\", shape=(), dtype=float64) -Train Accuracy:  0.9791667\n",
            "epoch:  63 - costs:  0.06789478 -MSE:  Tensor(\"Mean_128:0\", shape=(), dtype=float64) -Train Accuracy:  0.98020834\n",
            "epoch:  64 - costs:  0.06589362 -MSE:  Tensor(\"Mean_130:0\", shape=(), dtype=float64) -Train Accuracy:  0.98229164\n",
            "epoch:  65 - costs:  0.06399118 -MSE:  Tensor(\"Mean_132:0\", shape=(), dtype=float64) -Train Accuracy:  0.98229164\n",
            "epoch:  66 - costs:  0.0621799 -MSE:  Tensor(\"Mean_134:0\", shape=(), dtype=float64) -Train Accuracy:  0.984375\n",
            "epoch:  67 - costs:  0.06045374 -MSE:  Tensor(\"Mean_136:0\", shape=(), dtype=float64) -Train Accuracy:  0.984375\n",
            "epoch:  68 - costs:  0.05880656 -MSE:  Tensor(\"Mean_138:0\", shape=(), dtype=float64) -Train Accuracy:  0.984375\n",
            "epoch:  69 - costs:  0.057232536 -MSE:  Tensor(\"Mean_140:0\", shape=(), dtype=float64) -Train Accuracy:  0.98541665\n",
            "epoch:  70 - costs:  0.05572619 -MSE:  Tensor(\"Mean_142:0\", shape=(), dtype=float64) -Train Accuracy:  0.98541665\n",
            "epoch:  71 - costs:  0.054283276 -MSE:  Tensor(\"Mean_144:0\", shape=(), dtype=float64) -Train Accuracy:  0.98541665\n",
            "epoch:  72 - costs:  0.0529 -MSE:  Tensor(\"Mean_146:0\", shape=(), dtype=float64) -Train Accuracy:  0.98541665\n",
            "epoch:  73 - costs:  0.051573243 -MSE:  Tensor(\"Mean_148:0\", shape=(), dtype=float64) -Train Accuracy:  0.98541665\n",
            "epoch:  74 - costs:  0.050300613 -MSE:  Tensor(\"Mean_150:0\", shape=(), dtype=float64) -Train Accuracy:  0.98645836\n",
            "epoch:  75 - costs:  0.049078584 -MSE:  Tensor(\"Mean_152:0\", shape=(), dtype=float64) -Train Accuracy:  0.98645836\n",
            "epoch:  76 - costs:  0.047904696 -MSE:  Tensor(\"Mean_154:0\", shape=(), dtype=float64) -Train Accuracy:  0.98645836\n",
            "epoch:  77 - costs:  0.046777304 -MSE:  Tensor(\"Mean_156:0\", shape=(), dtype=float64) -Train Accuracy:  0.9875\n",
            "epoch:  78 - costs:  0.045694783 -MSE:  Tensor(\"Mean_158:0\", shape=(), dtype=float64) -Train Accuracy:  0.9875\n",
            "epoch:  79 - costs:  0.044654347 -MSE:  Tensor(\"Mean_160:0\", shape=(), dtype=float64) -Train Accuracy:  0.9875\n",
            "epoch:  80 - costs:  0.043654777 -MSE:  Tensor(\"Mean_162:0\", shape=(), dtype=float64) -Train Accuracy:  0.9875\n",
            "epoch:  81 - costs:  0.0426944 -MSE:  Tensor(\"Mean_164:0\", shape=(), dtype=float64) -Train Accuracy:  0.9875\n",
            "epoch:  82 - costs:  0.041771356 -MSE:  Tensor(\"Mean_166:0\", shape=(), dtype=float64) -Train Accuracy:  0.9875\n",
            "epoch:  83 - costs:  0.04088408 -MSE:  Tensor(\"Mean_168:0\", shape=(), dtype=float64) -Train Accuracy:  0.9875\n",
            "epoch:  84 - costs:  0.04003139 -MSE:  Tensor(\"Mean_170:0\", shape=(), dtype=float64) -Train Accuracy:  0.9875\n",
            "epoch:  85 - costs:  0.039211445 -MSE:  Tensor(\"Mean_172:0\", shape=(), dtype=float64) -Train Accuracy:  0.9895833\n",
            "epoch:  86 - costs:  0.038422354 -MSE:  Tensor(\"Mean_174:0\", shape=(), dtype=float64) -Train Accuracy:  0.9895833\n",
            "epoch:  87 - costs:  0.037659362 -MSE:  Tensor(\"Mean_176:0\", shape=(), dtype=float64) -Train Accuracy:  0.9895833\n",
            "epoch:  88 - costs:  0.036925457 -MSE:  Tensor(\"Mean_178:0\", shape=(), dtype=float64) -Train Accuracy:  0.9895833\n",
            "epoch:  89 - costs:  0.03621919 -MSE:  Tensor(\"Mean_180:0\", shape=(), dtype=float64) -Train Accuracy:  0.9895833\n",
            "epoch:  90 - costs:  0.035539377 -MSE:  Tensor(\"Mean_182:0\", shape=(), dtype=float64) -Train Accuracy:  0.9895833\n",
            "epoch:  91 - costs:  0.034883093 -MSE:  Tensor(\"Mean_184:0\", shape=(), dtype=float64) -Train Accuracy:  0.9895833\n",
            "epoch:  92 - costs:  0.03424771 -MSE:  Tensor(\"Mean_186:0\", shape=(), dtype=float64) -Train Accuracy:  0.9895833\n",
            "epoch:  93 - costs:  0.033635717 -MSE:  Tensor(\"Mean_188:0\", shape=(), dtype=float64) -Train Accuracy:  0.990625\n",
            "epoch:  94 - costs:  0.033045493 -MSE:  Tensor(\"Mean_190:0\", shape=(), dtype=float64) -Train Accuracy:  0.990625\n",
            "epoch:  95 - costs:  0.0324761 -MSE:  Tensor(\"Mean_192:0\", shape=(), dtype=float64) -Train Accuracy:  0.990625\n",
            "epoch:  96 - costs:  0.03192655 -MSE:  Tensor(\"Mean_194:0\", shape=(), dtype=float64) -Train Accuracy:  0.990625\n",
            "epoch:  97 - costs:  0.03139592 -MSE:  Tensor(\"Mean_196:0\", shape=(), dtype=float64) -Train Accuracy:  0.990625\n",
            "epoch:  98 - costs:  0.030883385 -MSE:  Tensor(\"Mean_198:0\", shape=(), dtype=float64) -Train Accuracy:  0.9916667\n",
            "epoch:  99 - costs:  0.030387789 -MSE:  Tensor(\"Mean_200:0\", shape=(), dtype=float64) -Train Accuracy:  0.9916667\n"
          ],
          "name": "stdout"
        }
      ]
    },
    {
      "cell_type": "code",
      "metadata": {
        "id": "6tLzd8ngXbRk",
        "colab_type": "code",
        "outputId": "82e3863f-4346-46eb-8c64-f234107157f5",
        "colab": {
          "base_uri": "https://localhost:8080/",
          "height": 34
        }
      },
      "source": [
        "save_path=saver.save(sess,model_path)\n",
        "print(f\"models saved in file {save_path}\")"
      ],
      "execution_count": 0,
      "outputs": [
        {
          "output_type": "stream",
          "text": [
            "models saved in file  \n"
          ],
          "name": "stdout"
        }
      ]
    },
    {
      "cell_type": "code",
      "metadata": {
        "id": "BoOHGxAfXj-m",
        "colab_type": "code",
        "outputId": "423c8d4e-346f-4ea4-e2cc-0c2d27b128b9",
        "colab": {
          "base_uri": "https://localhost:8080/",
          "height": 34
        }
      },
      "source": [
        "#print the final accuracy\n",
        "correct_prediction=tf.equal(tf.argmax(y,1),tf.argmax(y_,1))\n",
        "accuracy=tf.reduce_mean(tf.cast(correct_prediction,tf.float32))\n",
        "print(\"test accuracy\",(sess.run(accuracy,feed_dict={x:test_x,y_:test_y})))"
      ],
      "execution_count": 0,
      "outputs": [
        {
          "output_type": "stream",
          "text": [
            "test accuracy 0.99271846\n"
          ],
          "name": "stdout"
        }
      ]
    },
    {
      "cell_type": "code",
      "metadata": {
        "id": "UegOzGznXnBf",
        "colab_type": "code",
        "outputId": "9bd69534-93d6-4d2b-ac98-b8520a322c79",
        "colab": {
          "base_uri": "https://localhost:8080/",
          "height": 296
        }
      },
      "source": [
        "#plot th mse and accuracy graph\n",
        "plt.plot(accuracy_history)\n",
        "plt.xlabel('epoch')\n",
        "plt.ylabel('Accuracy')"
      ],
      "execution_count": 0,
      "outputs": [
        {
          "output_type": "execute_result",
          "data": {
            "text/plain": [
              "Text(0, 0.5, 'Accuracy')"
            ]
          },
          "metadata": {
            "tags": []
          },
          "execution_count": 38
        },
        {
          "output_type": "display_data",
          "data": {
            "image/png": "[encoded data removed]",
            "text/plain": [
              "<Figure size 432x288 with 1 Axes>"
            ]
          },
          "metadata": {
            "tags": []
          }
        }
      ]
    },
    {
      "cell_type": "code",
      "metadata": {
        "id": "yMHTZqXUXvXi",
        "colab_type": "code",
        "outputId": "6c9b6d22-babe-4361-c89c-2e0291fce672",
        "colab": {
          "base_uri": "https://localhost:8080/",
          "height": 34
        }
      },
      "source": [
        "pred_y=sess.run(y,feed_dict={x:test_x})\n",
        "mse=tf.reduce_mean(tf.square(pred_y-test_y))\n",
        "print(\"MSE: %4.f\"%sess.run(mse))"
      ],
      "execution_count": 0,
      "outputs": [
        {
          "output_type": "stream",
          "text": [
            "MSE:    6\n"
          ],
          "name": "stdout"
        }
      ]
    },
    {
      "cell_type": "code",
      "metadata": {
        "id": "Bo78_DAQjkWg",
        "colab_type": "code",
        "colab": {}
      },
      "source": [
        ""
      ],
      "execution_count": 0,
      "outputs": []
    },
    {
      "cell_type": "code",
      "metadata": {
        "id": "21oU83kwjlCe",
        "colab_type": "code",
        "colab": {}
      },
      "source": [
        ""
      ],
      "execution_count": 0,
      "outputs": []
    },
    {
      "cell_type": "code",
      "metadata": {
        "id": "EZsVGmO-X0dH",
        "colab_type": "code",
        "colab": {}
      },
      "source": [
        ""
      ],
      "execution_count": 0,
      "outputs": []
    }
  ]
}